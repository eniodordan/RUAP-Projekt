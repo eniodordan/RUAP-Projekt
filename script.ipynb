{
 "cells": [
  {
   "cell_type": "code",
   "execution_count": 1,
   "id": "54d56757",
   "metadata": {},
   "outputs": [],
   "source": [
    "import tensorflow as tf\n",
    "import cv2\n",
    "import os\n",
    "import matplotlib.pyplot as plt\n",
    "import numpy as np"
   ]
  },
  {
   "cell_type": "code",
   "execution_count": 2,
   "id": "0b051aea",
   "metadata": {},
   "outputs": [],
   "source": [
    "Datadirectory = \"archive/train/\""
   ]
  },
  {
   "cell_type": "code",
   "execution_count": 3,
   "id": "35ff48a4",
   "metadata": {},
   "outputs": [],
   "source": [
    "Classes = [\"0\", \"1\", \"2\", \"3\", \"4\", \"5\", \"6\"]"
   ]
  },
  {
   "cell_type": "code",
   "execution_count": 4,
   "id": "6d5b1b0e",
   "metadata": {},
   "outputs": [],
   "source": [
    "img_size = 224"
   ]
  },
  {
   "cell_type": "code",
   "execution_count": 5,
   "id": "4de7539f",
   "metadata": {},
   "outputs": [],
   "source": [
    "training_Data = []\n",
    "\n",
    "def create_training_Data():\n",
    "    for category in Classes:\n",
    "        path = os.path.join(Datadirectory, category)\n",
    "        class_num = Classes.index(category)\n",
    "        for img in os.listdir(path):\n",
    "            try:\n",
    "                img_array = cv2.imread(os.path.join(path, img))\n",
    "                new_array = cv2.resize(img_array, (img_size, img_size))\n",
    "                training_Data.append([new_array, class_num])\n",
    "            except Exception as e:\n",
    "                pass"
   ]
  },
  {
   "cell_type": "code",
   "execution_count": 6,
   "id": "9f7c43f5",
   "metadata": {},
   "outputs": [],
   "source": [
    "create_training_Data()"
   ]
  },
  {
   "cell_type": "code",
   "execution_count": 7,
   "id": "ea6630a3",
   "metadata": {},
   "outputs": [],
   "source": [
    "import random\n",
    "\n",
    "random.shuffle(training_Data)"
   ]
  },
  {
   "cell_type": "code",
   "execution_count": 8,
   "id": "b9f2d5ac",
   "metadata": {},
   "outputs": [],
   "source": [
    "X = []\n",
    "y = []\n",
    "\n",
    "for features,label in training_Data:\n",
    "    X.append(features)\n",
    "    y.append(label)\n",
    "    \n",
    "X = np.array(X).reshape(-1, img_size, img_size, 3)"
   ]
  },
  {
   "cell_type": "code",
   "execution_count": 9,
   "id": "53234a9f",
   "metadata": {},
   "outputs": [
    {
     "ename": "MemoryError",
     "evalue": "Unable to allocate 32.2 GiB for an array with shape (28709, 224, 224, 3) and data type float64",
     "output_type": "error",
     "traceback": [
      "\u001b[1;31m---------------------------------------------------------------------------\u001b[0m",
      "\u001b[1;31mMemoryError\u001b[0m                               Traceback (most recent call last)",
      "\u001b[1;32m<ipython-input-9-fbb652c56ba2>\u001b[0m in \u001b[0;36m<module>\u001b[1;34m\u001b[0m\n\u001b[1;32m----> 1\u001b[1;33m \u001b[0mX\u001b[0m \u001b[1;33m=\u001b[0m \u001b[0mX\u001b[0m\u001b[1;33m/\u001b[0m\u001b[1;36m255.0\u001b[0m\u001b[1;33m;\u001b[0m\u001b[1;33m\u001b[0m\u001b[1;33m\u001b[0m\u001b[0m\n\u001b[0m",
      "\u001b[1;31mMemoryError\u001b[0m: Unable to allocate 32.2 GiB for an array with shape (28709, 224, 224, 3) and data type float64"
     ]
    }
   ],
   "source": [
    "X = X/255.0;"
   ]
  },
  {
   "cell_type": "code",
   "execution_count": null,
   "id": "52d1b535",
   "metadata": {},
   "outputs": [],
   "source": [
    "import tensorflow as tf\n",
    "from tensorflow import keras\n",
    "from tensorflow.keras import layers"
   ]
  },
  {
   "cell_type": "code",
   "execution_count": null,
   "id": "d1d03dc3",
   "metadata": {},
   "outputs": [],
   "source": [
    "model = tf.keras.applications.MobileNetV2()"
   ]
  },
  {
   "cell_type": "code",
   "execution_count": null,
   "id": "a17f5029",
   "metadata": {},
   "outputs": [],
   "source": [
    "base_input = model.layers[0].input"
   ]
  },
  {
   "cell_type": "code",
   "execution_count": null,
   "id": "db69ab9c",
   "metadata": {},
   "outputs": [],
   "source": [
    "base_output = model.layers[-2].output"
   ]
  },
  {
   "cell_type": "code",
   "execution_count": null,
   "id": "5ba4fb93",
   "metadata": {},
   "outputs": [],
   "source": [
    "final_output = layers.Dense(128)(base_output)\n",
    "final_ouput = layers.Activation('relu')(final_output)\n",
    "final_output = layers.Dense(64)(final_ouput)\n",
    "final_ouput = layers.Activation('relu')(final_output)\n",
    "final_output = layers.Dense(7, activation='softmax')(final_ouput)"
   ]
  },
  {
   "cell_type": "code",
   "execution_count": null,
   "id": "8a246e1b",
   "metadata": {},
   "outputs": [],
   "source": [
    "new_model = keras.Model(inputs = base_input, outputs = final_output)"
   ]
  },
  {
   "cell_type": "code",
   "execution_count": null,
   "id": "ca8a3326",
   "metadata": {},
   "outputs": [],
   "source": [
    "new_model.compile(loss=\"sparse_categorical_crossentropy\", optimizer = \"adam\", metrics = [\"accuracy\"])"
   ]
  },
  {
   "cell_type": "code",
   "execution_count": null,
   "id": "a0705cb2",
   "metadata": {},
   "outputs": [],
   "source": [
    "Y = np.array(y)"
   ]
  },
  {
   "cell_type": "code",
   "execution_count": null,
   "id": "f1cf0b30",
   "metadata": {},
   "outputs": [],
   "source": [
    "# new_model.fit(X, Y, epochs = 25)"
   ]
  },
  {
   "cell_type": "code",
   "execution_count": null,
   "id": "11c2afa5",
   "metadata": {},
   "outputs": [],
   "source": [
    "# new_model.save('model_lite.h5')"
   ]
  },
  {
   "cell_type": "code",
   "execution_count": null,
   "id": "43f434c8",
   "metadata": {},
   "outputs": [],
   "source": [
    "new_model = tf.keras.models.load_model('model')"
   ]
  },
  {
   "cell_type": "code",
   "execution_count": null,
   "id": "6552c68d",
   "metadata": {},
   "outputs": [],
   "source": [
    "frame = cv2.imread(\"angryman.jpg\")"
   ]
  },
  {
   "cell_type": "code",
   "execution_count": null,
   "id": "1ac3851f",
   "metadata": {},
   "outputs": [],
   "source": [
    "faceCascade = cv2.CascadeClassifier(cv2.data.haarcascades + 'haarcascade_frontalface_default.xml')"
   ]
  },
  {
   "cell_type": "code",
   "execution_count": null,
   "id": "46df3982",
   "metadata": {},
   "outputs": [],
   "source": [
    "gray = cv2.cvtColor(frame, cv2.COLOR_BGR2GRAY)"
   ]
  },
  {
   "cell_type": "code",
   "execution_count": null,
   "id": "db80fe8a",
   "metadata": {},
   "outputs": [],
   "source": [
    "faces = faceCascade.detectMultiScale(gray, 1.1, 4)\n",
    "for x, y, w, h in faces:\n",
    "    roi_gray = gray[y:y+h, x:x+w]\n",
    "    roi_color = frame[y:y+h, x:x+w]\n",
    "    cv2.rectangle(frame, (x, y), (x+w, y+h), (255, 0, 0), 2)\n",
    "    facess = faceCascade.detectMultiScale(roi_gray)\n",
    "    if len(facess) == 0:\n",
    "        print(\"Face not detected.\")\n",
    "    else:\n",
    "        for (ex, ey, ew, eh) in facess:\n",
    "            face_roi = roi_color[ey: ey+eh, ex:ex + ew]"
   ]
  },
  {
   "cell_type": "code",
   "execution_count": null,
   "id": "47f80178",
   "metadata": {},
   "outputs": [],
   "source": [
    "plt.imshow(cv2.cvtColor(face_roi, cv2.COLOR_BGR2RGB))"
   ]
  },
  {
   "cell_type": "code",
   "execution_count": null,
   "id": "4cabd46e",
   "metadata": {},
   "outputs": [],
   "source": [
    "final_image = cv2.resize(face_roi, (224, 224))\n",
    "final_image = np.expand_dims(final_image, axis = 0)\n",
    "final_image = final_image / 255.0"
   ]
  },
  {
   "cell_type": "code",
   "execution_count": null,
   "id": "090963fa",
   "metadata": {},
   "outputs": [],
   "source": [
    "Predictions = new_model.predict(final_image)"
   ]
  },
  {
   "cell_type": "code",
   "execution_count": null,
   "id": "a4803c90",
   "metadata": {},
   "outputs": [],
   "source": [
    "np.argmax(Predictions)"
   ]
  },
  {
   "cell_type": "code",
   "execution_count": null,
   "id": "9453e28b",
   "metadata": {},
   "outputs": [],
   "source": [
    "import cv2\n",
    "\n",
    "path = \"haarcascade_frontalface_default.xml\"\n",
    "font_scale = 1.5\n",
    "font = cv2.FONT_HERSHEY_PLAIN\n",
    "\n",
    "rectangle_bgr = (255, 255, 255)\n",
    "img = np.zeros((500, 500))\n",
    "text = \"text\"\n",
    "(text_width, text_height) = cv2.getTextSize(text, font, fontScale = font_scale, thickness=1)[0]\n",
    "text_offset_x = 10\n",
    "text_offset_y = img.shape[0] - 25\n",
    "box_coords = ((text_offset_x, text_offset_y), (text_offset_x + text_width + 2, text_offset_y - text_height - 2))\n",
    "cv2.rectangle(img, box_coords[0], box_coords[1], rectangle_bgr, cv2.FILLED)\n",
    "cv2.putText(img, text, (text_offset_x, text_offset_y), font, fontScale = font_scale, color=(0, 0, 0), thickness=1)\n",
    "\n",
    "cap = cv2.VideoCapture(1)\n",
    "if not cap.isOpened():\n",
    "    cap = cv2.VideoCapture(0)\n",
    "if not cap.isOpened():\n",
    "    raise IOError(\"Cannot open webcam\")\n",
    "    \n",
    "while True:\n",
    "    ret, frame = cap.read()\n",
    "    faceCascade = cv2.CascadeClassifier(cv2.data.haarcascades + 'haarcascade_frontalface_default.xml')\n",
    "    gray = cv2.cvtColor(frame, cv2.COLOR_BGR2GRAY)\n",
    "    \n",
    "    faces = faceCascade.detectMultiScale(gray, 1.1, 4)\n",
    "    for x, y, w, h in faces:\n",
    "        roi_gray = gray[y:y+h, x:x+w]\n",
    "        roi_color = frame[y:y+h, x:x+w]\n",
    "        cv2.rectangle(frame, (x, y), (x+w, y+h), (255, 0, 0), 2)\n",
    "        facess = faceCascade.detectMultiScale(roi_gray)\n",
    "        if len(facess) == 0:\n",
    "            print(\"Face not detected.\")\n",
    "        else:\n",
    "            for (ex, ey, ew, eh) in facess:\n",
    "                face_roi = roi_color[ey: ey+eh, ex:ex + ew]\n",
    "\n",
    "    final_image = cv2.resize(face_roi, (224, 224))\n",
    "    final_image = np.expand_dims(final_image, axis = 0)\n",
    "    final_image = final_image / 255.0\n",
    "    \n",
    "    font = cv2.FONT_HERSHEY_SIMPLEX\n",
    "    \n",
    "    Predictions = new_model.predict(final_image)\n",
    "    \n",
    "    font_scale = 1.5\n",
    "    font = cv2.FONT_HERSHEY_PLAIN\n",
    "    \n",
    "    argmax = np.argmax(Predictions)\n",
    "    if(argmax == 0):\n",
    "        status = \"Angry\"\n",
    "    elif(argmax == 1):\n",
    "        status = \"Disgust\"\n",
    "    elif(argmax == 2):\n",
    "        status = \"Fear\"\n",
    "    elif(argmax == 3):\n",
    "        status = \"Happy\"\n",
    "    elif(argmax == 4):\n",
    "        status = \"Neutral\"\n",
    "    elif(argmax == 5):\n",
    "        status = \"Sad\"\n",
    "    else:\n",
    "        status = \"Suprise\"\n",
    "        \n",
    "    x1, y1, w1, h1 = 0, 0, 175, 75\n",
    "    cv2.rectangle(frame, (x1, x1), (x1 + w1, y1 + h1), (0, 0, 0), -1)\n",
    "    cv2.putText(frame, status, (x1 + int(w1/10), y1 + int(h1/2)), cv2.FONT_HERSHEY_SIMPLEX, 0.7, (0, 0, 255), 2)\n",
    "    cv2.putText(frame, status, (100, 150), font, 3, (0, 0, 255), 2, cv2.LINE_4)\n",
    "    cv2.rectangle(frame, (x, y), (x+w, y+h), (0, 0, 255))\n",
    "    \n",
    "    cv2.imshow('Face Expression Recognition', frame)\n",
    "    \n",
    "    if cv2.waitKey(2) & 0xFF == ord('q'):\n",
    "        break\n",
    "\n",
    "cap.release()\n",
    "cv2.destroyAllWindows()"
   ]
  },
  {
   "cell_type": "code",
   "execution_count": null,
   "id": "03ba4601",
   "metadata": {},
   "outputs": [],
   "source": []
  }
 ],
 "metadata": {
  "kernelspec": {
   "display_name": "Python 3",
   "language": "python",
   "name": "python3"
  },
  "language_info": {
   "codemirror_mode": {
    "name": "ipython",
    "version": 3
   },
   "file_extension": ".py",
   "mimetype": "text/x-python",
   "name": "python",
   "nbconvert_exporter": "python",
   "pygments_lexer": "ipython3",
   "version": "3.8.8"
  }
 },
 "nbformat": 4,
 "nbformat_minor": 5
}
